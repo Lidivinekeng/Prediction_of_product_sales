{
  "nbformat": 4,
  "nbformat_minor": 0,
  "metadata": {
    "colab": {
      "provenance": [],
      "authorship_tag": "ABX9TyOObYZUOClNho+aVcT+9TBY",
      "include_colab_link": true
    },
    "kernelspec": {
      "name": "python3",
      "display_name": "Python 3"
    },
    "language_info": {
      "name": "python"
    }
  },
  "cells": [
    {
      "cell_type": "markdown",
      "metadata": {
        "id": "view-in-github",
        "colab_type": "text"
      },
      "source": [
        "<a href=\"https://colab.research.google.com/github/Lidivinekeng/Prediction_of_product_sales/blob/main/lidivine_kengne_sales_prediction_project.ipynb\" target=\"_parent\"><img src=\"https://colab.research.google.com/assets/colab-badge.svg\" alt=\"Open In Colab\"/></a>"
      ]
    },
    {
      "cell_type": "markdown",
      "source": [
        "#prediction of product sales"
      ],
      "metadata": {
        "id": "llbEr6k6dG61"
      }
    },
    {
      "cell_type": "markdown",
      "source": [
        "\n",
        "\n",
        "*   Author : Lidivine Kengne\n",
        "\n"
      ],
      "metadata": {
        "id": "c0vv1dGRf3pE"
      }
    },
    {
      "cell_type": "markdown",
      "source": [
        "## project overview"
      ],
      "metadata": {
        "id": "ll2ggIabf_Ym"
      }
    },
    {
      "cell_type": "markdown",
      "source": [],
      "metadata": {
        "id": "vfKUoitVgtn3"
      }
    },
    {
      "cell_type": "markdown",
      "source": [
        "##load and inspect data"
      ],
      "metadata": {
        "id": "dfaYZLzdgzDS"
      }
    },
    {
      "cell_type": "code",
      "source": [],
      "metadata": {
        "id": "On6C0IfPg8ic"
      },
      "execution_count": null,
      "outputs": []
    },
    {
      "cell_type": "markdown",
      "source": [
        "##clean data"
      ],
      "metadata": {
        "id": "YBUg6-W9g9W1"
      }
    },
    {
      "cell_type": "code",
      "source": [],
      "metadata": {
        "id": "6AplV3QkhBP3"
      },
      "execution_count": null,
      "outputs": []
    },
    {
      "cell_type": "markdown",
      "source": [
        "##exploratory data analysis"
      ],
      "metadata": {
        "id": "oKhvgm4xhBoR"
      }
    },
    {
      "cell_type": "code",
      "source": [],
      "metadata": {
        "id": "Ewg_hA6YhLBB"
      },
      "execution_count": null,
      "outputs": []
    },
    {
      "cell_type": "markdown",
      "source": [
        "##feature inspection"
      ],
      "metadata": {
        "id": "wT-IUkLrhOSk"
      }
    },
    {
      "cell_type": "code",
      "source": [],
      "metadata": {
        "id": "Y7Ct-lwyhYTx"
      },
      "execution_count": null,
      "outputs": []
    }
  ]
}